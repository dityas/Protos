{
 "cells": [
  {
   "cell_type": "markdown",
   "id": "305e86f0-7f6c-4486-b5ef-e05f3f798f00",
   "metadata": {},
   "source": [
    "# Data analysis"
   ]
  },
  {
   "cell_type": "code",
   "execution_count": null,
   "id": "93084f85-1c2b-49dd-9e07-69b0eec2e321",
   "metadata": {},
   "outputs": [],
   "source": [
    "import json\n",
    "import sys\n",
    "import networkx\n",
    "import pandas\n",
    "import numpy\n",
    "\n",
    "import matplotlib.pyplot as plotter\n",
    "from pathlib import Path\n",
    "from IPython.display import display, HTML"
   ]
  },
  {
   "cell_type": "markdown",
   "id": "b319a920-7c35-403d-81e2-6b923727209c",
   "metadata": {},
   "source": [
    "Data dir containing all files"
   ]
  },
  {
   "cell_type": "code",
   "execution_count": null,
   "id": "4a6548b5-1701-43bb-ba6b-cecd7922abcb",
   "metadata": {},
   "outputs": [],
   "source": [
    "!ls -la /home/ashinde/PhD/CaffineBravery/"
   ]
  },
  {
   "cell_type": "code",
   "execution_count": null,
   "id": "60fde628-93aa-4030-b803-42aff0a0a6b9",
   "metadata": {},
   "outputs": [],
   "source": [
    "# Data files\n",
    "data_dir = Path(\"/home/ashinde/PhD/CaffineBravery/results_l1_passive/\")\n",
    "data_files = list(data_dir.iterdir())\n",
    "\n",
    "graph_files = list(filter(lambda x: \"pol_graph\" in str(x), data_files))\n",
    "print(f\"Policy graph files: {graph_files}\")\n",
    "\n",
    "trace_file = list(filter(lambda x: \"trace\" in str(x), data_files))[0]\n",
    "print(f\"Trace file: {trace_file}\")"
   ]
  },
  {
   "cell_type": "code",
   "execution_count": null,
   "id": "1adcc50d-1b5c-442d-81c6-173c40aa2bc8",
   "metadata": {},
   "outputs": [],
   "source": [
    "def load_json(fname):\n",
    "\n",
    "    data = None\n",
    "\n",
    "    with open(fname) as f:\n",
    "        data = json.load(f)\n",
    "\n",
    "    return data"
   ]
  },
  {
   "cell_type": "code",
   "execution_count": null,
   "id": "13d66f5e-d386-4e7a-975e-da3087e35d8c",
   "metadata": {},
   "outputs": [],
   "source": [
    "# Draw policy graphs\n",
    "import graphviz\n",
    "\n",
    "\n",
    "def get_edge_map(edges):\n",
    "    start = 0\n",
    "    edge_map = {}\n",
    "    multi_edge_map = {}\n",
    "    \n",
    "    for src, children in edges.items():\n",
    "        for obs, child in children.items():\n",
    "            \n",
    "            # index this observation if not already done\n",
    "            if obs not in edge_map.keys():\n",
    "                edge_map[obs] = start\n",
    "                start += 1\n",
    "                \n",
    "            # Add obs to (src, dst) key\n",
    "            if (src, child) not in multi_edge_map.keys():\n",
    "                multi_edge_map[(src, child)] = [edge_map[obs]]\n",
    "            \n",
    "            else:\n",
    "                _l = multi_edge_map[(src, child)]\n",
    "                _l.append(edge_map[obs])\n",
    "                multi_edge_map[(src, child)] = _l\n",
    "                \n",
    "    return edge_map, multi_edge_map\n",
    "\n",
    "\n",
    "def get_graphviz_graph(json_data):\n",
    "    \n",
    "    # initialize empty graph\n",
    "    G = graphviz.Digraph()\n",
    "    \n",
    "    nodes = json_data[\"nodes\"]\n",
    "    edges = json_data[\"edges\"]\n",
    "    \n",
    "    edge_map, multi_edge_map = get_edge_map(edges)\n",
    "    print(f\"Edge map is:\")\n",
    "    for e, i in edge_map.items():\n",
    "        print(f\"{i}:{e}\")\n",
    "\n",
    "    for k, v in nodes.items():\n",
    "        l = v[\"act\"] + \"_start\" if \"start\" in v.keys() else v[\"act\"]\n",
    "        G.node(k, label=l, fontsize=\"12\")\n",
    "        \n",
    "    for s, t in multi_edge_map.keys():\n",
    "        G.edge(s, t, label=str(multi_edge_map[(s, t)]))\n",
    "        \n",
    "    return G"
   ]
  },
  {
   "cell_type": "markdown",
   "id": "0a3a71aa-93fa-47ce-9de2-55dbd927bc00",
   "metadata": {},
   "source": [
    "---\n",
    "## Plot policy graphs"
   ]
  },
  {
   "cell_type": "code",
   "execution_count": null,
   "id": "1941a50c-f954-43a5-aac4-d6d219e50e36",
   "metadata": {},
   "outputs": [],
   "source": [
    "for g in graph_files:\n",
    "    print(f\"Displaying {g}\")\n",
    "    data = load_json(g)\n",
    "    G = get_graphviz_graph(data)\n",
    "    display(G)"
   ]
  },
  {
   "cell_type": "markdown",
   "id": "c465e938-0ee6-4447-bd66-2db7e519cb9e",
   "metadata": {},
   "source": [
    "---\n",
    "# Action summaries"
   ]
  },
  {
   "cell_type": "code",
   "execution_count": null,
   "id": "50e5eb0a-2630-44fc-aa0b-4bd8a8670162",
   "metadata": {},
   "outputs": [],
   "source": [
    "# load json data\n",
    "data = load_json(trace_file)\n"
   ]
  },
  {
   "cell_type": "markdown",
   "id": "55879384-728a-4382-bb00-9a61d21e74dc",
   "metadata": {},
   "source": [
    "---\n",
    "## Beliefs "
   ]
  },
  {
   "cell_type": "code",
   "execution_count": null,
   "id": "87fed747-e70d-47a4-972c-2882be897c0c",
   "metadata": {},
   "outputs": [],
   "source": [
    "import summarize_interaction\n",
    "\n",
    "# load json data\n",
    "data = load_json(trace_file)\n",
    "\n",
    "keys, b_traces = summarize_interaction.get_all_belief_traces(data)\n",
    "\n",
    "print(\"Plotting belief divergence over\")\n",
    "for k in keys:\n",
    "    print(k)"
   ]
  },
  {
   "cell_type": "code",
   "execution_count": null,
   "id": "1f36e342-ffda-46d0-82d1-fb8d41b4749a",
   "metadata": {},
   "outputs": [],
   "source": [
    "# Get divergence\n",
    "divs = []\n",
    "for b_trace in b_traces:\n",
    "    divs.append(summarize_interaction.get_divergence(b_trace))\n",
    "    \n",
    "for i in range(len(keys)):\n",
    "    print(f\"Plotting for {keys[i]}\")\n",
    "    \n",
    "    i_means = numpy.mean(divs[i][0], axis=0)\n",
    "    i_dev = numpy.std(divs[i][0], axis=0)\n",
    "    plotter.errorbar(numpy.linspace(1, i_means.shape[0], i_means.shape[0]), i_means, fmt='r-.', yerr=i_dev, linewidth=0.5)\n",
    "    \n",
    "    if len(divs[i]) > 1:\n",
    "        j_means = numpy.mean(divs[i][1], axis=0)\n",
    "        j_dev = numpy.std(divs[i][1], axis=0)\n",
    "        plotter.errorbar(numpy.linspace(1, j_means.shape[0], j_means.shape[0]), j_means, fmt='b-.', yerr=j_dev, linewidth=0.5)\n",
    "        # plotter.plot(divs[i][1].T, 'b-.', linewidth=0.5)\n",
    "    \n",
    "    plotter.ylim(-0.1, 2)\n",
    "    plotter.show()\n",
    "    "
   ]
  },
  {
   "cell_type": "markdown",
   "id": "d16ff800-c916-4d1d-8635-63ab0bc02125",
   "metadata": {},
   "source": [
    "---\n",
    "# Display interaction examples"
   ]
  },
  {
   "cell_type": "code",
   "execution_count": null,
   "id": "5c75e0d4-2cce-402e-8404-8117e35c4e34",
   "metadata": {},
   "outputs": [],
   "source": [
    "from functools import reduce\n",
    "\n",
    "for trace in data[:5]:\n",
    "    actions = summarize_interaction.pull_actions(trace)\n",
    "    display(actions)\n",
    "    \n",
    "    try:\n",
    "        frame_beliefs = summarize_interaction.pull_frame_beliefs(trace)\n",
    "        \n",
    "        i_PAj = summarize_interaction.pull_from_trace(trace, lambda x: x, \"i_P(Aj)\")\n",
    "        i_PAj = list(reduce(lambda a, b: a + b, map(lambda x: list(x.values()), i_PAj)))\n",
    "        i_PAj = pandas.DataFrame.from_dict(i_PAj)\n",
    "        print(\"Agent i's P(Aj)\")\n",
    "        display(i_PAj)\n",
    "\n",
    "        j_PAj = summarize_interaction.pull_from_trace(trace, lambda x: x, \"j_P(Aj)\")\n",
    "        j_PAj = list(reduce(lambda a, b: a + b, map(lambda x: list(x.values()), j_PAj)))\n",
    "        j_PAj = pandas.DataFrame.from_dict(j_PAj)\n",
    "        print(\"Agent j's P(Aj)\")\n",
    "        display(j_PAj)\n",
    "\n",
    "        for _b_theta in frame_beliefs:\n",
    "            display(_b_theta)\n",
    "            _b_theta.plot(linewidth=0.5)\n",
    "            plotter.ylim(-0.1, 1.1)\n",
    "            plotter.show()\n",
    "    except Exception as e:\n",
    "        print(e)\n",
    "        \n",
    "    for k in keys:\n",
    "        beliefs = summarize_interaction.show_belief(trace, k)\n",
    "\n",
    "        for _b in beliefs.keys():\n",
    "            print(f\"Showing {k} for {_b}\")\n",
    "            display(beliefs[_b])\n",
    "\n",
    "            print(f\"Plotting {k} for {_b}\")\n",
    "            beliefs[_b].plot(legend=True, title=k[0], linewidth=0.5)\n",
    "            plotter.ylim(-0.1, 1.1)\n",
    "            plotter.show()\n",
    "\n",
    "    print(\"=============== End interaction trace\")\n",
    "    "
   ]
  },
  {
   "cell_type": "code",
   "execution_count": null,
   "id": "8b2cd969-c8ed-45ba-92bf-19f9baf12a80",
   "metadata": {},
   "outputs": [],
   "source": []
  }
 ],
 "metadata": {
  "kernelspec": {
   "display_name": "Python 3 (ipykernel)",
   "language": "python",
   "name": "python3"
  },
  "language_info": {
   "codemirror_mode": {
    "name": "ipython",
    "version": 3
   },
   "file_extension": ".py",
   "mimetype": "text/x-python",
   "name": "python",
   "nbconvert_exporter": "python",
   "pygments_lexer": "ipython3",
   "version": "3.9.13"
  }
 },
 "nbformat": 4,
 "nbformat_minor": 5
}
